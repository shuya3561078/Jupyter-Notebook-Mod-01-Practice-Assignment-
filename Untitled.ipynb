{
 "cells": [
  {
   "cell_type": "code",
   "execution_count": 1,
   "id": "f2820a45-5255-4be0-a4a3-28dab2faea27",
   "metadata": {},
   "outputs": [],
   "source": [
    "ln = 'Chou'\n",
    "fn = 'Hsingwei'"
   ]
  },
  {
   "cell_type": "code",
   "execution_count": 2,
   "id": "741968cc-5a12-490d-8cda-36eab5535704",
   "metadata": {},
   "outputs": [
    {
     "name": "stdout",
     "output_type": "stream",
     "text": [
      "Hsingwei Chou\n"
     ]
    }
   ],
   "source": [
    "print(fn + ' ' + ln)"
   ]
  },
  {
   "cell_type": "code",
   "execution_count": 4,
   "id": "8945e6fe-be5e-4539-bde2-bc3475d0e26f",
   "metadata": {},
   "outputs": [
    {
     "name": "stdin",
     "output_type": "stream",
     "text": [
      "Input an integer :  4\n"
     ]
    },
    {
     "name": "stdout",
     "output_type": "stream",
     "text": [
      "492\n"
     ]
    }
   ],
   "source": [
    "n = int(input(\"Input an integer : \"))\n",
    "n1 = int( \"%s\" % n )\n",
    "n2 = int( \"%s%s\" % (n,n) )\n",
    "n3 = int( \"%s%s%s\" % (n,n,n) )\n",
    "print (n1+n2+n3)"
   ]
  },
  {
   "cell_type": "code",
   "execution_count": 7,
   "id": "ee4b0a16-70d2-4cb6-a973-3bafc4869f22",
   "metadata": {},
   "outputs": [
    {
     "name": "stdin",
     "output_type": "stream",
     "text": [
      "What country are you from? Taiwan\n"
     ]
    },
    {
     "name": "stdout",
     "output_type": "stream",
     "text": [
      "I have heard that Taiwan is a beautiful country!\n"
     ]
    }
   ],
   "source": [
    "print('I have heard that ' + input('What country are you from?') + ' is a beautiful country!')"
   ]
  },
  {
   "cell_type": "code",
   "execution_count": 10,
   "id": "3f5b3cd3-50e9-461e-a522-90c5f58e1641",
   "metadata": {},
   "outputs": [
    {
     "name": "stdout",
     "output_type": "stream",
     "text": [
      "None\n"
     ]
    }
   ],
   "source": [
    "x = 10\n",
    "y = 50\n",
    "if (x ** 2 > 100 and y < 100):\n",
    "    print(x, y)\n",
    "else:\n",
    "    print('None')"
   ]
  },
  {
   "cell_type": "code",
   "execution_count": 13,
   "id": "3874d4f9-fa39-44b9-a332-852d6a69df2c",
   "metadata": {},
   "outputs": [
    {
     "name": "stdout",
     "output_type": "stream",
     "text": [
      "[10, 20, 30, 40]\n",
      "[10, 20, 30, 40]\n"
     ]
    }
   ],
   "source": [
    "a = [10, 20]\n",
    "b = a\n",
    "b += [30, 40]\n",
    "print(a)\n",
    "print(b)"
   ]
  },
  {
   "cell_type": "code",
   "execution_count": 14,
   "id": "4a1dbec6-9ab4-4a7e-952f-9fcdcc0cce4d",
   "metadata": {},
   "outputs": [
    {
     "name": "stdout",
     "output_type": "stream",
     "text": [
      "2\n"
     ]
    }
   ],
   "source": [
    "print(2%6)"
   ]
  },
  {
   "cell_type": "code",
   "execution_count": 15,
   "id": "2ae2d651-7a32-4629-b425-4c43c5d63f91",
   "metadata": {},
   "outputs": [
    {
     "name": "stdout",
     "output_type": "stream",
     "text": [
      "216\n"
     ]
    }
   ],
   "source": [
    "print(2 * 3 ** 3 * 4)"
   ]
  },
  {
   "cell_type": "code",
   "execution_count": 16,
   "id": "1fe3551f-c6c8-42a6-ba0c-9b4400ef1729",
   "metadata": {},
   "outputs": [
    {
     "name": "stdout",
     "output_type": "stream",
     "text": [
      "A text editor is a type of computer program that edits plain text.\n"
     ]
    }
   ],
   "source": [
    "print('A text editor is a type of computer program that edits plain text.')"
   ]
  },
  {
   "cell_type": "code",
   "execution_count": 17,
   "id": "90a9b90e-b792-4815-a397-bcf4078fd1b7",
   "metadata": {},
   "outputs": [
    {
     "name": "stdout",
     "output_type": "stream",
     "text": [
      "Python is an interpreted, object-oriented, high-level programming language with dynamic semantics.\n"
     ]
    }
   ],
   "source": [
    "print('Python is an interpreted, object-oriented, high-level programming language with dynamic semantics.')"
   ]
  },
  {
   "cell_type": "code",
   "execution_count": 19,
   "id": "2ac7fbd7-27db-4b10-b267-022267a22a99",
   "metadata": {},
   "outputs": [
    {
     "name": "stdout",
     "output_type": "stream",
     "text": [
      "It is a Virtual Environment using Python. There is Alternative such as spyder.\n"
     ]
    }
   ],
   "source": [
    "print('It is a Virtual Environment using Python. There is Alternative such as spyder.')"
   ]
  }
 ],
 "metadata": {
  "kernelspec": {
   "display_name": "Python 3 (ipykernel)",
   "language": "python",
   "name": "python3"
  },
  "language_info": {
   "codemirror_mode": {
    "name": "ipython",
    "version": 3
   },
   "file_extension": ".py",
   "mimetype": "text/x-python",
   "name": "python",
   "nbconvert_exporter": "python",
   "pygments_lexer": "ipython3",
   "version": "3.9.7"
  }
 },
 "nbformat": 4,
 "nbformat_minor": 5
}
